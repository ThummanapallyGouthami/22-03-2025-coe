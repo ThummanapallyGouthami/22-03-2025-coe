{
 "cells": [
  {
   "cell_type": "markdown",
   "id": "f16c3c8c-194c-4c4d-adeb-95f3f913228c",
   "metadata": {},
   "source": [
    "***HierarchicalClustering***\n",
    "\n",
    "->Hierarchical clustering is a type of unsupervised machine learning algorithm used to group similar objects into clusters. \n",
    "\n",
    "->It builds a hierarchy of clusters, which can be represented in a tree-like diagram known as a dendrogram.\n",
    "    \n",
    "->Once the hierarchical clustering algorithm has been applied and the dendrogram has been created, you can use the dendrogram to decide the number of\n",
    "clusters.\n",
    "\n",
    "->Cutting the dendrogram: \n",
    "\n",
    "->By \"cutting\" the dendrogram at a certain level (height), you can define the number of clusters.\n",
    "    \n",
    "->The height at which you cut the dendrogram determines how fine or coarse the clustering will be.\n",
    "\n",
    "->Example Steps:\n",
    "\n",
    "->Perform hierarchical clustering on your dataset.\n",
    "\n",
    "->Plot the dendrogram to visualize the hierarchical structure.\n",
    "\n",
    "->Decide where to \"cut\" the dendrogram. This cutting point corresponds to a distance threshold, and everything below this threshold is grouped together as a cluster.\n",
    "\n",
    "  Assign data points to clusters based on where the dendrogram is cut."
   ]
  },
  {
   "cell_type": "markdown",
   "id": "ad477748-a5ca-4db3-a9e7-52123e722735",
   "metadata": {},
   "source": [
    "***Agglomerative Hierarchical Clustering (Bottom-Up Approach)***\n",
    "\n",
    "-> In agglomerative hierarchical clustering, the algorithm starts with each data point as a separate cluster and then repeatedly merges the closest pairs of clusters until all points are part of a single cluster."
   ]
  },
  {
   "cell_type": "markdown",
   "id": "b1828a56-a7ff-43d9-9abb-a7f8708e5588",
   "metadata": {},
   "source": [
    "***Divisive Hierarchical Clustering (Top-Down Approach)***\n",
    "\n",
    "->Divisive hierarchical clustering is the opposite of agglomerative clustering. It starts with all data points in a single cluster and recursively splits the clusters into smaller sub-clusters."
   ]
  },
  {
   "cell_type": "markdown",
   "id": "48f56388-22e5-45df-8f4f-2dccd1c08a84",
   "metadata": {},
   "source": [
    "***Divisive Hierarchical Clustering without using pandas***"
   ]
  },
  {
   "cell_type": "code",
   "execution_count": 8,
   "id": "c75d2dde-1967-43e7-a4ff-6b5acab86e54",
   "metadata": {},
   "outputs": [
    {
     "data": {
      "image/png": "[encoded data removed]",
      "text/plain": [
       "<Figure size 640x480 with 1 Axes>"
      ]
     },
     "metadata": {},
     "output_type": "display_data"
    }
   ],
   "source": [
    "# Example for divisive clustering\n",
    "import numpy as np\n",
    "from scipy.cluster.hierarchy import dendrogram,linkage\n",
    "import matplotlib.pyplot as plt\n",
    "x=np.array([[1,2],[1,4],[1,0],\n",
    "            [4,2],[4,4],[4,0]])\n",
    "z=linkage(x,'ward')# ward Distance\n",
    "dendrogram(z)# plotting dendrogram\n",
    "plt.title('Hierarchical clustering Dendrogram')\n",
    "plt.xlabel('Data Point')\n",
    "plt.ylabel('Distance')\n",
    "plt.show()"
   ]
  },
  {
   "cell_type": "markdown",
   "id": "297c5a46-6290-4c6a-b4a1-d4f8ee9cb990",
   "metadata": {},
   "source": [
    "***Agglomerative Hierarchical Clustering without pandas***"
   ]
  },
  {
   "cell_type": "code",
   "execution_count": 24,
   "id": "4d4e848a-4a14-48bb-917b-9c9277c51aac",
   "metadata": {},
   "outputs": [
    {
     "name": "stdout",
     "output_type": "stream",
     "text": [
      "[1 1 1 0 0 0]\n"
     ]
    }
   ],
   "source": [
    "from sklearn.cluster import AgglomerativeClustering\n",
    "import numpy as np\n",
    "import matplotlib.pyplot as plt\n",
    "X=np.array([[1,2],[1,4],[1,0],\n",
    "          [4,2],[4,4],[4,0]])\n",
    "clustering=AgglomerativeClustering(n_clusters=2).fit(X)\n",
    "print(clustering.labels_)"
   ]
  },
  {
   "cell_type": "markdown",
   "id": "febeaa3b-a121-4d6e-aed1-c35f2887025a",
   "metadata": {},
   "source": [
    "***Agglomerative Hierarchical Clustering with pandas***"
   ]
  },
  {
   "cell_type": "code",
   "execution_count": 66,
   "id": "39d1c398-ea66-4aca-8246-6ab45f51be16",
   "metadata": {},
   "outputs": [
    {
     "data": {
      "text/html": [
       "<div>\n",
       "<style scoped>\n",
       "    .dataframe tbody tr th:only-of-type {\n",
       "        vertical-align: middle;\n",
       "    }\n",
       "\n",
       "    .dataframe tbody tr th {\n",
       "        vertical-align: top;\n",
       "    }\n",
       "\n",
       "    .dataframe thead th {\n",
       "        text-align: right;\n",
       "    }\n",
       "</style>\n",
       "<table border=\"1\" class=\"dataframe\">\n",
       "  <thead>\n",
       "    <tr style=\"text-align: right;\">\n",
       "      <th></th>\n",
       "      <th>ID</th>\n",
       "      <th>Year_Birth</th>\n",
       "      <th>Education</th>\n",
       "      <th>Marital_Status</th>\n",
       "      <th>Income</th>\n",
       "      <th>Kidhome</th>\n",
       "      <th>Teenhome</th>\n",
       "      <th>Dt_Customer</th>\n",
       "      <th>Recency</th>\n",
       "      <th>MntWines</th>\n",
       "      <th>...</th>\n",
       "      <th>NumWebVisitsMonth</th>\n",
       "      <th>AcceptedCmp3</th>\n",
       "      <th>AcceptedCmp4</th>\n",
       "      <th>AcceptedCmp5</th>\n",
       "      <th>AcceptedCmp1</th>\n",
       "      <th>AcceptedCmp2</th>\n",
       "      <th>Complain</th>\n",
       "      <th>Z_CostContact</th>\n",
       "      <th>Z_Revenue</th>\n",
       "      <th>Response</th>\n",
       "    </tr>\n",
       "  </thead>\n",
       "  <tbody>\n",
       "    <tr>\n",
       "      <th>0</th>\n",
       "      <td>5524</td>\n",
       "      <td>1957</td>\n",
       "      <td>Graduation</td>\n",
       "      <td>Single</td>\n",
       "      <td>58138.0</td>\n",
       "      <td>0</td>\n",
       "      <td>0</td>\n",
       "      <td>04-09-2012</td>\n",
       "      <td>58</td>\n",
       "      <td>635</td>\n",
       "      <td>...</td>\n",
       "      <td>7</td>\n",
       "      <td>0</td>\n",
       "      <td>0</td>\n",
       "      <td>0</td>\n",
       "      <td>0</td>\n",
       "      <td>0</td>\n",
       "      <td>0</td>\n",
       "      <td>3</td>\n",
       "      <td>11</td>\n",
       "      <td>1</td>\n",
       "    </tr>\n",
       "    <tr>\n",
       "      <th>1</th>\n",
       "      <td>2174</td>\n",
       "      <td>1954</td>\n",
       "      <td>Graduation</td>\n",
       "      <td>Single</td>\n",
       "      <td>46344.0</td>\n",
       "      <td>1</td>\n",
       "      <td>1</td>\n",
       "      <td>08-03-2014</td>\n",
       "      <td>38</td>\n",
       "      <td>11</td>\n",
       "      <td>...</td>\n",
       "      <td>5</td>\n",
       "      <td>0</td>\n",
       "      <td>0</td>\n",
       "      <td>0</td>\n",
       "      <td>0</td>\n",
       "      <td>0</td>\n",
       "      <td>0</td>\n",
       "      <td>3</td>\n",
       "      <td>11</td>\n",
       "      <td>0</td>\n",
       "    </tr>\n",
       "    <tr>\n",
       "      <th>2</th>\n",
       "      <td>4141</td>\n",
       "      <td>1965</td>\n",
       "      <td>Graduation</td>\n",
       "      <td>Together</td>\n",
       "      <td>71613.0</td>\n",
       "      <td>0</td>\n",
       "      <td>0</td>\n",
       "      <td>21-08-2013</td>\n",
       "      <td>26</td>\n",
       "      <td>426</td>\n",
       "      <td>...</td>\n",
       "      <td>4</td>\n",
       "      <td>0</td>\n",
       "      <td>0</td>\n",
       "      <td>0</td>\n",
       "      <td>0</td>\n",
       "      <td>0</td>\n",
       "      <td>0</td>\n",
       "      <td>3</td>\n",
       "      <td>11</td>\n",
       "      <td>0</td>\n",
       "    </tr>\n",
       "    <tr>\n",
       "      <th>3</th>\n",
       "      <td>6182</td>\n",
       "      <td>1984</td>\n",
       "      <td>Graduation</td>\n",
       "      <td>Together</td>\n",
       "      <td>26646.0</td>\n",
       "      <td>1</td>\n",
       "      <td>0</td>\n",
       "      <td>10-02-2014</td>\n",
       "      <td>26</td>\n",
       "      <td>11</td>\n",
       "      <td>...</td>\n",
       "      <td>6</td>\n",
       "      <td>0</td>\n",
       "      <td>0</td>\n",
       "      <td>0</td>\n",
       "      <td>0</td>\n",
       "      <td>0</td>\n",
       "      <td>0</td>\n",
       "      <td>3</td>\n",
       "      <td>11</td>\n",
       "      <td>0</td>\n",
       "    </tr>\n",
       "    <tr>\n",
       "      <th>4</th>\n",
       "      <td>5324</td>\n",
       "      <td>1981</td>\n",
       "      <td>PhD</td>\n",
       "      <td>Married</td>\n",
       "      <td>58293.0</td>\n",
       "      <td>1</td>\n",
       "      <td>0</td>\n",
       "      <td>19-01-2014</td>\n",
       "      <td>94</td>\n",
       "      <td>173</td>\n",
       "      <td>...</td>\n",
       "      <td>5</td>\n",
       "      <td>0</td>\n",
       "      <td>0</td>\n",
       "      <td>0</td>\n",
       "      <td>0</td>\n",
       "      <td>0</td>\n",
       "      <td>0</td>\n",
       "      <td>3</td>\n",
       "      <td>11</td>\n",
       "      <td>0</td>\n",
       "    </tr>\n",
       "  </tbody>\n",
       "</table>\n",
       "<p>5 rows × 29 columns</p>\n",
       "</div>"
      ],
      "text/plain": [
       "     ID  Year_Birth   Education Marital_Status   Income  Kidhome  Teenhome  \\\n",
       "0  5524        1957  Graduation         Single  58138.0        0         0   \n",
       "1  2174        1954  Graduation         Single  46344.0        1         1   \n",
       "2  4141        1965  Graduation       Together  71613.0        0         0   \n",
       "3  6182        1984  Graduation       Together  26646.0        1         0   \n",
       "4  5324        1981         PhD        Married  58293.0        1         0   \n",
       "\n",
       "  Dt_Customer  Recency  MntWines  ...  NumWebVisitsMonth  AcceptedCmp3  \\\n",
       "0  04-09-2012       58       635  ...                  7             0   \n",
       "1  08-03-2014       38        11  ...                  5             0   \n",
       "2  21-08-2013       26       426  ...                  4             0   \n",
       "3  10-02-2014       26        11  ...                  6             0   \n",
       "4  19-01-2014       94       173  ...                  5             0   \n",
       "\n",
       "   AcceptedCmp4  AcceptedCmp5  AcceptedCmp1  AcceptedCmp2  Complain  \\\n",
       "0             0             0             0             0         0   \n",
       "1             0             0             0             0         0   \n",
       "2             0             0             0             0         0   \n",
       "3             0             0             0             0         0   \n",
       "4             0             0             0             0         0   \n",
       "\n",
       "   Z_CostContact  Z_Revenue  Response  \n",
       "0              3         11         1  \n",
       "1              3         11         0  \n",
       "2              3         11         0  \n",
       "3              3         11         0  \n",
       "4              3         11         0  \n",
       "\n",
       "[5 rows x 29 columns]"
      ]
     },
     "execution_count": 66,
     "metadata": {},
     "output_type": "execute_result"
    }
   ],
   "source": [
    "#Load necessary libraries\n",
    "import pandas as pd\n",
    "import numpy as np\n",
    "import matplotlib.pyplot as plt\n",
    "import seaborn as sns\n",
    "from scipy.cluster.hierarchy import linkage, dendrogram, fcluster\n",
    "from sklearn.preprocessing import StandardScaler\n",
    "from sklearn.cluster import AgglomerativeClustering\n",
    "# Load the dataset\n",
    "df = pd.read_csv(\"marketing_campaign1.csv\")  # Change this to your dataset filename\n",
    "df.head()\n"
   ]
  },
  {
   "cell_type": "code",
   "execution_count": 68,
   "id": "0478d458-860e-46e5-bb78-9d36904c418f",
   "metadata": {},
   "outputs": [],
   "source": [
    "# Select numerical features for clustering (drop non-numeric columns)\n",
    "numeric_cols = df.select_dtypes(include=[np.number]).columns\n",
    "data = df[numeric_cols]\n"
   ]
  },
  {
   "cell_type": "code",
   "execution_count": 70,
   "id": "b0608ba0-8857-4cbe-a4b4-bb74771b276e",
   "metadata": {},
   "outputs": [],
   "source": [
    "# Handle missing values (if any)\n",
    "data = data.fillna(data.mean())"
   ]
  },
  {
   "cell_type": "code",
   "execution_count": 72,
   "id": "53fa1692-6b7b-4f74-8aee-875774bb186d",
   "metadata": {},
   "outputs": [],
   "source": [
    "# Standardize the data (scaling is important for clustering)\n",
    "scaler = StandardScaler()\n",
    "data_scaled = scaler.fit_transform(data)"
   ]
  },
  {
   "cell_type": "code",
   "execution_count": 74,
   "id": "e04c883e-9765-4587-9830-3e08c611fe8f",
   "metadata": {},
   "outputs": [],
   "source": [
    "# Compute the linkage matrix for hierarchical clustering\n",
    "linkage_matrix = linkage(data_scaled, method='ward')  # 'ward' minimizes variance within clusters\n"
   ]
  },
  {
   "cell_type": "code",
   "execution_count": 76,
   "id": "406de9f5-6e32-418a-9a67-0f0283544b91",
   "metadata": {},
   "outputs": [
    {
     "data": {
      "image/png": "[encoded data removed]",
      "text/plain": [
       "<Figure size 1200x600 with 1 Axes>"
      ]
     },
     "metadata": {},
     "output_type": "display_data"
    }
   ],
   "source": [
    "# Visualize the Dendrogram\n",
    "plt.figure(figsize=(12, 6))\n",
    "dendrogram(linkage_matrix)\n",
    "plt.title(\"Hierarchical Clustering Dendrogram\")\n",
    "plt.xlabel(\"Data Points\")\n",
    "plt.ylabel(\"Distance\")\n",
    "plt.show()"
   ]
  },
  {
   "cell_type": "code",
   "execution_count": 77,
   "id": "6a3d6c3e-994b-4860-b539-8bd91f77e283",
   "metadata": {},
   "outputs": [
    {
     "name": "stdout",
     "output_type": "stream",
     "text": [
      "     ID  Year_Birth   Education Marital_Status   Income  Kidhome  Teenhome  \\\n",
      "0  5524        1957  Graduation         Single  58138.0        0         0   \n",
      "1  2174        1954  Graduation         Single  46344.0        1         1   \n",
      "2  4141        1965  Graduation       Together  71613.0        0         0   \n",
      "3  6182        1984  Graduation       Together  26646.0        1         0   \n",
      "4  5324        1981         PhD        Married  58293.0        1         0   \n",
      "\n",
      "  Dt_Customer  Recency  MntWines  ...  AcceptedCmp3  AcceptedCmp4  \\\n",
      "0  04-09-2012       58       635  ...             0             0   \n",
      "1  08-03-2014       38        11  ...             0             0   \n",
      "2  21-08-2013       26       426  ...             0             0   \n",
      "3  10-02-2014       26        11  ...             0             0   \n",
      "4  19-01-2014       94       173  ...             0             0   \n",
      "\n",
      "   AcceptedCmp5  AcceptedCmp1  AcceptedCmp2  Complain  Z_CostContact  \\\n",
      "0             0             0             0         0              3   \n",
      "1             0             0             0         0              3   \n",
      "2             0             0             0         0              3   \n",
      "3             0             0             0         0              3   \n",
      "4             0             0             0         0              3   \n",
      "\n",
      "   Z_Revenue  Response  Cluster  \n",
      "0         11         1        2  \n",
      "1         11         0        0  \n",
      "2         11         0        2  \n",
      "3         11         0        0  \n",
      "4         11         0        0  \n",
      "\n",
      "[5 rows x 30 columns]\n"
     ]
    }
   ],
   "source": [
    " #Define the number of clusters based on dendrogram observation\n",
    "num_clusters = 3  # Change this based on dendrogram observation\n",
    "\n",
    "# Apply Agglomerative Clustering\n",
    "agglom_clustering = AgglomerativeClustering(n_clusters=num_clusters, linkage=\"ward\")\n",
    "df[\"Cluster\"] = agglom_clustering.fit_predict(data_scaled)\n",
    "\n",
    "# Display first few rows with cluster labels\n",
    "print(df.head())"
   ]
  },
  {
   "cell_type": "code",
   "execution_count": 88,
   "id": "9239bf7c-74e3-4946-aa04-fa69dd309b1a",
   "metadata": {},
   "outputs": [
    {
     "ename": "ValueError",
     "evalue": "Linkage matrix contains excessive observationsin a cluster",
     "output_type": "error",
     "traceback": [
      "\u001b[1;31m---------------------------------------------------------------------------\u001b[0m",
      "\u001b[1;31mValueError\u001b[0m                                Traceback (most recent call last)",
      "Cell \u001b[1;32mIn[88], line 64\u001b[0m\n\u001b[0;32m     62\u001b[0m \u001b[38;5;66;03m# Visualize the Dendrogram for divisive clustering\u001b[39;00m\n\u001b[0;32m     63\u001b[0m plt\u001b[38;5;241m.\u001b[39mfigure(figsize\u001b[38;5;241m=\u001b[39m(\u001b[38;5;241m12\u001b[39m, \u001b[38;5;241m6\u001b[39m))\n\u001b[1;32m---> 64\u001b[0m \u001b[43mdendrogram\u001b[49m\u001b[43m(\u001b[49m\u001b[43mlinkage_matrix\u001b[49m\u001b[43m)\u001b[49m\n\u001b[0;32m     65\u001b[0m plt\u001b[38;5;241m.\u001b[39mtitle(\u001b[38;5;124m\"\u001b[39m\u001b[38;5;124mDivisive Hierarchical Clustering Dendrogram\u001b[39m\u001b[38;5;124m\"\u001b[39m)\n\u001b[0;32m     66\u001b[0m plt\u001b[38;5;241m.\u001b[39mxlabel(\u001b[38;5;124m\"\u001b[39m\u001b[38;5;124mData Points\u001b[39m\u001b[38;5;124m\"\u001b[39m)\n",
      "File \u001b[1;32mc:\\Users\\CVR\\Desktop\\22B81A6717\\21-02-2025\\venv\\lib\\site-packages\\scipy\\cluster\\hierarchy.py:3291\u001b[0m, in \u001b[0;36mdendrogram\u001b[1;34m(Z, p, truncate_mode, color_threshold, get_leaves, orientation, labels, count_sort, distance_sort, show_leaf_counts, no_plot, no_labels, leaf_font_size, leaf_rotation, leaf_label_func, show_contracted, link_color_func, ax, above_threshold_color)\u001b[0m\n\u001b[0;32m   3288\u001b[0m     \u001b[38;5;28;01mif\u001b[39;00m Z\u001b[38;5;241m.\u001b[39mshape[\u001b[38;5;241m0\u001b[39m] \u001b[38;5;241m+\u001b[39m \u001b[38;5;241m1\u001b[39m \u001b[38;5;241m!=\u001b[39m len_labels:\n\u001b[0;32m   3289\u001b[0m         \u001b[38;5;28;01mraise\u001b[39;00m \u001b[38;5;167;01mValueError\u001b[39;00m(\u001b[38;5;124m\"\u001b[39m\u001b[38;5;124mDimensions of Z and labels must be consistent.\u001b[39m\u001b[38;5;124m\"\u001b[39m)\n\u001b[1;32m-> 3291\u001b[0m \u001b[43mis_valid_linkage\u001b[49m\u001b[43m(\u001b[49m\u001b[43mZ\u001b[49m\u001b[43m,\u001b[49m\u001b[43m \u001b[49m\u001b[43mthrow\u001b[49m\u001b[38;5;241;43m=\u001b[39;49m\u001b[38;5;28;43;01mTrue\u001b[39;49;00m\u001b[43m,\u001b[49m\u001b[43m \u001b[49m\u001b[43mname\u001b[49m\u001b[38;5;241;43m=\u001b[39;49m\u001b[38;5;124;43m'\u001b[39;49m\u001b[38;5;124;43mZ\u001b[39;49m\u001b[38;5;124;43m'\u001b[39;49m\u001b[43m)\u001b[49m\n\u001b[0;32m   3292\u001b[0m Zs \u001b[38;5;241m=\u001b[39m Z\u001b[38;5;241m.\u001b[39mshape\n\u001b[0;32m   3293\u001b[0m n \u001b[38;5;241m=\u001b[39m Zs[\u001b[38;5;241m0\u001b[39m] \u001b[38;5;241m+\u001b[39m \u001b[38;5;241m1\u001b[39m\n",
      "File \u001b[1;32mc:\\Users\\CVR\\Desktop\\22B81A6717\\21-02-2025\\venv\\lib\\site-packages\\scipy\\cluster\\hierarchy.py:2252\u001b[0m, in \u001b[0;36mis_valid_linkage\u001b[1;34m(Z, warning, throw, name)\u001b[0m\n\u001b[0;32m   2250\u001b[0m         \u001b[38;5;28;01mraise\u001b[39;00m \u001b[38;5;167;01mValueError\u001b[39;00m(\u001b[38;5;124mf\u001b[39m\u001b[38;5;124m'\u001b[39m\u001b[38;5;124mLinkage \u001b[39m\u001b[38;5;132;01m{\u001b[39;00mname_str\u001b[38;5;132;01m}\u001b[39;00m\u001b[38;5;124mcontains negative counts.\u001b[39m\u001b[38;5;124m'\u001b[39m)\n\u001b[0;32m   2251\u001b[0m     \u001b[38;5;28;01mif\u001b[39;00m xp\u001b[38;5;241m.\u001b[39many(Z[:, \u001b[38;5;241m3\u001b[39m] \u001b[38;5;241m>\u001b[39m (Z\u001b[38;5;241m.\u001b[39mshape[\u001b[38;5;241m0\u001b[39m] \u001b[38;5;241m+\u001b[39m \u001b[38;5;241m1\u001b[39m)):\n\u001b[1;32m-> 2252\u001b[0m         \u001b[38;5;28;01mraise\u001b[39;00m \u001b[38;5;167;01mValueError\u001b[39;00m(\u001b[38;5;124m'\u001b[39m\u001b[38;5;124mLinkage matrix contains excessive observations\u001b[39m\u001b[38;5;124m'\u001b[39m\n\u001b[0;32m   2253\u001b[0m                          \u001b[38;5;124m'\u001b[39m\u001b[38;5;124min a cluster\u001b[39m\u001b[38;5;124m'\u001b[39m)\n\u001b[0;32m   2254\u001b[0m \u001b[38;5;28;01mif\u001b[39;00m _check_hierarchy_uses_cluster_before_formed(Z):\n\u001b[0;32m   2255\u001b[0m     \u001b[38;5;28;01mraise\u001b[39;00m \u001b[38;5;167;01mValueError\u001b[39;00m(\u001b[38;5;124mf\u001b[39m\u001b[38;5;124m'\u001b[39m\u001b[38;5;124mLinkage \u001b[39m\u001b[38;5;132;01m{\u001b[39;00mname_str\u001b[38;5;132;01m}\u001b[39;00m\u001b[38;5;124muses non-singleton cluster before\u001b[39m\u001b[38;5;124m'\u001b[39m\n\u001b[0;32m   2256\u001b[0m                      \u001b[38;5;124m'\u001b[39m\u001b[38;5;124m it is formed.\u001b[39m\u001b[38;5;124m'\u001b[39m)\n",
      "\u001b[1;31mValueError\u001b[0m: Linkage matrix contains excessive observationsin a cluster"
     ]
    },
    {
     "data": {
      "text/plain": [
       "<Figure size 1200x600 with 0 Axes>"
      ]
     },
     "metadata": {},
     "output_type": "display_data"
    }
   ],
   "source": [
    "import pandas as pd\n",
    "import numpy as np\n",
    "import matplotlib.pyplot as plt\n",
    "from sklearn.preprocessing import StandardScaler\n",
    "from sklearn.cluster import KMeans\n",
    "from scipy.cluster.hierarchy import dendrogram, linkage\n",
    "\n",
    "# Load dataset\n",
    "df = pd.read_csv(\"marketing_campaign1.csv\")  # Change this to your dataset filename\n",
    "\n",
    "# Select numerical features for clustering (drop non-numeric columns)\n",
    "numeric_cols = df.select_dtypes(include=[np.number]).columns\n",
    "data = df[numeric_cols]\n",
    "\n",
    "# Handle missing values\n",
    "data = data.fillna(data.mean())\n",
    "\n",
    "# Standardize the data (scaling is important for clustering)\n",
    "scaler = StandardScaler()\n",
    "data_scaled = scaler.fit_transform(data)\n",
    "\n",
    "# Function for divisive clustering (creating a linkage matrix)\n",
    "def divisive_clustering(data, n_clusters=3):\n",
    "    # Start with all data points in a single cluster\n",
    "    clusters = [data]\n",
    "    linkage_matrix = []\n",
    "\n",
    "    # Recursively split the clusters\n",
    "    current_cluster_index = 0  # Track current cluster to split\n",
    "    cluster_id = len(data)  # Start unique cluster IDs\n",
    "    while len(clusters) < n_clusters:\n",
    "        # Split the chosen cluster into two using KMeans\n",
    "        kmeans = KMeans(n_clusters=2, random_state=42)\n",
    "        kmeans.fit(clusters[current_cluster_index])\n",
    "        labels = kmeans.labels_\n",
    "        \n",
    "        # Create two new clusters\n",
    "        new_cluster_1 = clusters[current_cluster_index][labels == 0]\n",
    "        new_cluster_2 = clusters[current_cluster_index][labels == 1]\n",
    "        \n",
    "        # Record the linkage for the split\n",
    "        # Linkage matrix follows: [cluster1_size, cluster2_size, distance, num_original_clusters]\n",
    "        distance = np.linalg.norm(np.mean(new_cluster_1, axis=0) - np.mean(new_cluster_2, axis=0))  # Distance between centroids\n",
    "        linkage_matrix.append([len(new_cluster_1), len(new_cluster_2), distance, cluster_id])\n",
    "        \n",
    "        # Replace the original cluster with the two new clusters\n",
    "        clusters[current_cluster_index] = new_cluster_1\n",
    "        clusters.append(new_cluster_2)\n",
    "        \n",
    "        # Move to the next cluster to split\n",
    "        current_cluster_index = len(clusters) - 1  # Always split the most recently created cluster\n",
    "        cluster_id += 1  # Increment the unique cluster ID\n",
    "    \n",
    "    # Convert the linkage matrix to the correct format for plotting the dendrogram\n",
    "    linkage_matrix = np.array(linkage_matrix)\n",
    "    return linkage_matrix\n",
    "\n",
    "# Apply divisive clustering\n",
    "n_clusters = 3  # Desired number of clusters\n",
    "linkage_matrix = divisive_clustering(data_scaled, n_clusters)\n",
    "\n",
    "# Visualize the Dendrogram for divisive clustering\n",
    "plt.figure(figsize=(12, 6))\n",
    "dendrogram(linkage_matrix)\n",
    "plt.title(\"Divisive Hierarchical Clustering Dendrogram\")\n",
    "plt.xlabel(\"Data Points\")\n",
    "plt.ylabel(\"Distance\")\n",
    "plt.show()\n"
   ]
  },
  {
   "cell_type": "code",
   "execution_count": null,
   "id": "749d4621-8c60-44fc-bd99-794d33a368fd",
   "metadata": {},
   "outputs": [],
   "source": []
  }
 ],
 "metadata": {
  "kernelspec": {
   "display_name": "Python [conda env:venv]",
   "language": "python",
   "name": "conda-env-venv-py"
  },
  "language_info": {
   "codemirror_mode": {
    "name": "ipython",
    "version": 3
   },
   "file_extension": ".py",
   "mimetype": "text/x-python",
   "name": "python",
   "nbconvert_exporter": "python",
   "pygments_lexer": "ipython3",
   "version": "3.10.16"
  }
 },
 "nbformat": 4,
 "nbformat_minor": 5
}
